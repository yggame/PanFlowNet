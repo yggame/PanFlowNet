{
 "cells": [
  {
   "cell_type": "code",
   "execution_count": 1,
   "id": "76573404",
   "metadata": {},
   "outputs": [],
   "source": [
    "from utils.config  import get_config\n",
    "from solver.o_testsolver_ave import Testsolver"
   ]
  },
  {
   "cell_type": "code",
   "execution_count": null,
   "id": "ae8a3abc",
   "metadata": {},
   "outputs": [
    {
     "name": "stdout",
     "output_type": "stream",
     "text": [
      "now: pan_inn9\n",
      "===> AVG Timer: 0.0168 sec.\n",
      "################## reference comparision #######################\n",
      "metrics:    PSNR,     SSIM,   SAM,    ERGAS,  SCC,    Q\n",
      "deep    [41.8577, 0.9712, 0.0224, 0.9335, 0.9743, 0.7792]\n",
      "################## reference comparision #######################\n",
      "################## no reference comparision ####################\n",
      "metrics:    D_lamda,  D_s,    QNR\n",
      "deep     [0.0665, 0.1163, 0.8257]\n",
      "################## no reference comparision ####################\n",
      "best_ref_results [41.85774683223842, 0.9712246645017413, 0.02239226383053814, 0.9335209323622514, 0.9743124341167055, 0.7792251594349514]\n",
      "best_no_ref_results [0.06649277722777186, 0.1162824019932592, 0.8257054403158073]\n",
      "best_ref_results [41.85774683223842, 0.9712246645017413, 0.02239226383053814, 0.9335209323622514, 0.9743124341167055, 0.7792251594349514]\n",
      "best_no_ref_results [0.06649277722777186, 0.1162824019932592, 0.8257054403158073]\n",
      "===> AVG Timer: 0.0167 sec.\n",
      "################## reference comparision #######################\n",
      "metrics:    PSNR,     SSIM,   SAM,    ERGAS,  SCC,    Q\n",
      "deep    [41.8578, 0.9712, 0.0224, 0.9335, 0.9743, 0.7792]\n",
      "################## reference comparision #######################\n",
      "################## no reference comparision ####################\n",
      "metrics:    D_lamda,  D_s,    QNR\n",
      "deep     [0.0665, 0.1163, 0.8257]\n",
      "################## no reference comparision ####################\n",
      "best_ref_results [41.85781228861977, 0.9712258948400649, 0.022392664791917316, 0.9335411301752485, 0.9743111680685157, 0.7792105892522949]\n",
      "best_no_ref_results [0.06647413304339059, 0.11632201003003677, 0.8256862075298746]\n",
      "best_ref_results [41.85781228861977, 0.9712258948400649, 0.022392664791917316, 0.9335411301752485, 0.9743111680685157, 0.7792105892522949]\n",
      "best_no_ref_results [0.06647413304339059, 0.11632201003003677, 0.8256862075298746]\n"
     ]
    }
   ],
   "source": [
    "if __name__ == '__main__':\n",
    "    cfg = get_config('./option_wv2_test.yml')\n",
    "    solver = Testsolver(cfg)\n",
    "    solver.run()"
   ]
  },
  {
   "cell_type": "code",
   "execution_count": null,
   "id": "7e83e435",
   "metadata": {},
   "outputs": [],
   "source": []
  }
 ],
 "metadata": {
  "kernelspec": {
   "display_name": "Python 3",
   "language": "python",
   "name": "python3"
  },
  "language_info": {
   "codemirror_mode": {
    "name": "ipython",
    "version": 3
   },
   "file_extension": ".py",
   "mimetype": "text/x-python",
   "name": "python",
   "nbconvert_exporter": "python",
   "pygments_lexer": "ipython3",
   "version": "3.8.5"
  }
 },
 "nbformat": 4,
 "nbformat_minor": 5
}
